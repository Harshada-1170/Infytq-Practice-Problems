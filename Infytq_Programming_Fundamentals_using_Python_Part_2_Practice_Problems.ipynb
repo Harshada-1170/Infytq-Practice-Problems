{
  "nbformat": 4,
  "nbformat_minor": 0,
  "metadata": {
    "colab": {
      "provenance": [],
      "authorship_tag": "ABX9TyNTp+YMAvITAkRZAD4QaN3v",
      "include_colab_link": true
    },
    "kernelspec": {
      "name": "python3",
      "display_name": "Python 3"
    },
    "language_info": {
      "name": "python"
    }
  },
  "cells": [
    {
      "cell_type": "markdown",
      "metadata": {
        "id": "view-in-github",
        "colab_type": "text"
      },
      "source": [
        "<a href=\"https://colab.research.google.com/github/Harshada-1170/Infytq-Practice-Problems/blob/main/Infytq_Programming_Fundamentals_using_Python_Part_2_Practice_Problems.ipynb\" target=\"_parent\"><img src=\"https://colab.research.google.com/assets/colab-badge.svg\" alt=\"Open In Colab\"/></a>"
      ]
    },
    {
      "cell_type": "markdown",
      "source": [
        "Practice Problem 1 - Level 1 Write a python function to add 'ing' at the end of a given string and return the new string. If the given string already ends with 'ing' then add 'ly'. If the length of the given string is less than 3, leave it unchanged."
      ],
      "metadata": {
        "id": "MiPHVdMoB16Q"
      }
    },
    {
      "cell_type": "code",
      "execution_count": 1,
      "metadata": {
        "colab": {
          "base_uri": "https://localhost:8080/"
        },
        "id": "4RqEBiGzBbjU",
        "outputId": "2d7fb715-784a-4fbd-8ad7-cd8f7bda25e0"
      },
      "outputs": [
        {
          "output_type": "stream",
          "name": "stdout",
          "text": [
            "stringly\n"
          ]
        }
      ],
      "source": [
        "def add_string(str1):\n",
        "\n",
        "  if str1[-3:]==\"ing\":\n",
        "    str1+= \"ly\"\n",
        "  elif len(str1)<3:\n",
        "    str1\n",
        "  else :\n",
        "    str1+= \"ing\"\n",
        "  return str1 \n",
        "name=add_string(\"string\")\n",
        "print(name)"
      ]
    },
    {
      "cell_type": "markdown",
      "source": [
        "Practice Problem 2 - Level 1 Write a python function which accepts a string containing a pattern of brackets and returns true if the pattern of brackets is correct. Otherwise it returns false.\n",
        "\n",
        "The string of brackets is correct if it satisfies the following conditions:\n",
        "\n",
        "1. Number of opening and closing brackets are equal.\n",
        "2. Pattern should not start with closing bracket and end with opening bracket."
      ],
      "metadata": {
        "id": "0VRMtVLiCBZ7"
      }
    },
    {
      "cell_type": "code",
      "source": [
        "dic = {}\n",
        "def bracket_pattern(input_str):\n",
        "    if (input_str[0]==\")\" or input_str[-1]==\"(\"):\n",
        "      print(False)\n",
        "    else:\n",
        "      for i in input_str:\n",
        "        if i in dic:\n",
        "          dic[i]+=1                            \n",
        "        else:\n",
        "          dic[i]=1\n",
        "        \n",
        "      if(dic[\"(\"]==dic[\")\"]):\n",
        "         print(True)\n",
        "      else:\n",
        "         print(False)\n",
        "\n",
        "    \n",
        "input_str=\"())))\"\n",
        "print(bracket_pattern(input_str))"
      ],
      "metadata": {
        "colab": {
          "base_uri": "https://localhost:8080/"
        },
        "id": "i4mLy-ArB_7C",
        "outputId": "e8034e88-5ce9-437a-a82d-2535a52223d0"
      },
      "execution_count": 2,
      "outputs": [
        {
          "output_type": "stream",
          "name": "stdout",
          "text": [
            "False\n",
            "None\n"
          ]
        }
      ]
    },
    {
      "cell_type": "markdown",
      "source": [
        "Practice Problem 3 - Level 1 Write a python function to create and return a new dictionary from the given dictionary(item:price).\n",
        "\n",
        "Given the following input, create a new dictionary with elements having price more than 200.\n",
        "\n",
        "prices = {'ACME': 45.23,'AAPL': 612.78, 'IBM': 205.55,'HPQ': 37.20,'FB': 10.75}"
      ],
      "metadata": {
        "id": "Jmx8VVd4CTPF"
      }
    },
    {
      "cell_type": "code",
      "source": [
        "new_dict = {}\n",
        "def create_new_dictionary(prices):\n",
        "    #start writing your code here\n",
        "    for i in prices :\n",
        "      if (prices[i] > 200) :         \n",
        "         new_dict[i]=prices[i]\n",
        "\n",
        "    \n",
        "    return new_dict\n",
        "\n",
        "prices ={'OATS': 200.1, 'PULSES': 321.02, 'TEABAG': 234.78, 'BISCUIT': 123.67, 'CHOCOLATE': 410.34}\t\n",
        "print(create_new_dictionary(prices))\n",
        "\n"
      ],
      "metadata": {
        "colab": {
          "base_uri": "https://localhost:8080/"
        },
        "id": "zEyVlXYsCTlM",
        "outputId": "7a7e7fce-68a6-400a-90bc-30d51875cc84"
      },
      "execution_count": 3,
      "outputs": [
        {
          "output_type": "stream",
          "name": "stdout",
          "text": [
            "{'OATS': 200.1, 'PULSES': 321.02, 'TEABAG': 234.78, 'CHOCOLATE': 410.34}\n"
          ]
        }
      ]
    },
    {
      "cell_type": "markdown",
      "source": [
        "Practice Problem 4 - Level 1 Given a list of numbers, write a python function which returns true if one of the first 4 elements in the list is 9. Otherwise it should return false.\n",
        "\n",
        "The length of the list can be less than 4 also."
      ],
      "metadata": {
        "id": "ov-yGcBhCUIG"
      }
    },
    {
      "cell_type": "code",
      "source": [
        "def find_nine(nums):\n",
        "    #Remove pass and write your code here\n",
        "    for i in range(len(nums)):\n",
        "        if (i < 4):\n",
        "           if (nums[i] == 9):\n",
        "              return True\n",
        "            \n",
        "    else :\n",
        "            return False\n",
        "    \n",
        "\n",
        "nums=[1,4,5,6]\n",
        "print(find_nine(nums))"
      ],
      "metadata": {
        "colab": {
          "base_uri": "https://localhost:8080/"
        },
        "id": "63iw7lGRCUe5",
        "outputId": "d9bff117-d38c-4208-d796-301420cd2bb2"
      },
      "execution_count": 4,
      "outputs": [
        {
          "output_type": "stream",
          "name": "stdout",
          "text": [
            "False\n"
          ]
        }
      ]
    },
    {
      "cell_type": "markdown",
      "source": [
        "Practice Problem 5 - Level 1 Write a python function which accepts a sentence and finds the number of letters and digits in the sentence.\n",
        "\n",
        "It should return a list in which the first value should be letter count and second value should be digit count. Ignore the spaces or any other special character in the sentence."
      ],
      "metadata": {
        "id": "mIDHnn3QCUxQ"
      }
    },
    {
      "cell_type": "code",
      "source": [
        "def count_digits_letters(sentence):\n",
        "    #start writing your code here\n",
        "    # result_list=[]\n",
        "    count_let=0\n",
        "    count_num=0\n",
        "    for i in sentence:\n",
        "      if i.isalpha():\n",
        "        count_let+=1\n",
        "      # elif (i==\" \"):\n",
        "      #   count_sp=0\n",
        "\n",
        "      elif i.isnumeric():\n",
        "        count_num+=1\n",
        "    result_list=[count_let,count_num]\n",
        "    return result_list\n",
        "\n",
        "sentence=\"Infosys Mysore 570027\"\n",
        "print(count_digits_letters(sentence))"
      ],
      "metadata": {
        "colab": {
          "base_uri": "https://localhost:8080/"
        },
        "id": "aW0TwdXfCVCg",
        "outputId": "7d01e9a4-4102-4a54-bf6b-6ab753630e33"
      },
      "execution_count": 5,
      "outputs": [
        {
          "output_type": "stream",
          "name": "stdout",
          "text": [
            "[13, 6]\n"
          ]
        }
      ]
    },
    {
      "cell_type": "markdown",
      "source": [
        "Practice Problem 6 - Level 1 Write a python function which accepts a list of numbers and returns true, if 1, 2, 3 appears in sequence in the list.\n",
        "\n",
        "Otherwise, it should return false."
      ],
      "metadata": {
        "id": "vQPypyycCxaT"
      }
    },
    {
      "cell_type": "code",
      "source": [
        "def list123(nums):\n",
        "    #start writing your code here\n",
        "    for i in range(len(nums)-2) :\n",
        "      \n",
        "          if (nums[i]==1 and nums[i+1]==2 and nums[i+2]==3 ):\n",
        "              return True\n",
        "          \n",
        "    return False\n",
        "    \n",
        "\n",
        "nums=[100, 2000, 1, 2, 3, 300]\n",
        "print(list123(nums))"
      ],
      "metadata": {
        "colab": {
          "base_uri": "https://localhost:8080/"
        },
        "id": "RkP84S9sCxvY",
        "outputId": "ac381ee9-ac65-4bc6-c7f0-cf52f1c592bf"
      },
      "execution_count": 6,
      "outputs": [
        {
          "output_type": "stream",
          "name": "stdout",
          "text": [
            "True\n"
          ]
        }
      ]
    },
    {
      "cell_type": "markdown",
      "source": [
        "Practice Problem 7 - Level 1 Given two numbers, write a python function which returns true if first number is a seed of second number. Otherwise it returns false.\n",
        "\n",
        "A number X is said to be a seed of number Y, if multiplying X by its each digit equates to Y\n",
        "\n",
        "For example, 123 is a seed of 738 as 12312*3 = 738."
      ],
      "metadata": {
        "id": "ap2s9sixC4IP"
      }
    },
    {
      "cell_type": "code",
      "source": [
        "def seed_no(number,ref_no):\n",
        "  num_str=str(number)\n",
        "  result=1\n",
        "    #start writing your code here\n",
        "  for i in num_str:\n",
        "      result=result*int(i)\n",
        "  if (result*number == ref_no):\n",
        "     return True\n",
        "  else :\n",
        "     return False\n",
        "number=123\n",
        "ref_no=738\n",
        "print(seed_no(number,ref_no))"
      ],
      "metadata": {
        "colab": {
          "base_uri": "https://localhost:8080/"
        },
        "id": "6hrIZR-FC4Zx",
        "outputId": "50e6f3b7-81da-429b-c911-6639566450c4"
      },
      "execution_count": 7,
      "outputs": [
        {
          "output_type": "stream",
          "name": "stdout",
          "text": [
            "True\n"
          ]
        }
      ]
    },
    {
      "cell_type": "markdown",
      "source": [
        "Practice Problem 8 - Level 1 Write a python function which accepts a list of strings containing details of deposits and withdrawals made in a bank account and returns the net amount in the account.\n",
        "\n",
        "Suppose the following input is supplied to the function [\"D:300\",\"D:300\",\"W:200\",\"D:100\"] where D means deposit and W means withdrawal, then the net amount in the account is 500."
      ],
      "metadata": {
        "id": "tIpYIrMcC4pY"
      }
    },
    {
      "cell_type": "code",
      "source": [
        "def calculate_net_amount(trans_list):\n",
        "\n",
        "  net_amount=0\n",
        "  \n",
        "    #start writing your code here\n",
        "  for i in trans_list:\n",
        "    if (i[0]=='D'):\n",
        "        net_amount+=int(i[2:])\n",
        "    elif (i[0]=='W'):\n",
        "        net_amount-=int(i[2:])\n",
        "  return net_amount\n",
        "trans_list=[\"D:300\",\"D:200\",\"W:200\",\"D:100\"]\n",
        "print(calculate_net_amount(trans_list))"
      ],
      "metadata": {
        "colab": {
          "base_uri": "https://localhost:8080/"
        },
        "id": "g1ewMsdXC46U",
        "outputId": "62adf2fb-3fd6-421e-9aa6-6b167afeb445"
      },
      "execution_count": 8,
      "outputs": [
        {
          "output_type": "stream",
          "name": "stdout",
          "text": [
            "400\n"
          ]
        }
      ]
    },
    {
      "cell_type": "markdown",
      "source": [
        "Practice Problem 9 - Level 1 Write a Python function which generates and returns a dictionary where the keys are numbers between 1 and n (both inclusive) and the values are square of keys"
      ],
      "metadata": {
        "id": "dw0UPtrDC5Iq"
      }
    },
    {
      "cell_type": "code",
      "source": [
        "new_dict = {}\n",
        "def generate_dict(number):\n",
        "\t#start writing your code here\n",
        "    \n",
        "     for i in range(1,number+1):\n",
        "        new_dict[i]=i*i       #it will assign key and value\n",
        "        \t          \n",
        "     return new_dict\n",
        "\n",
        "number=20\n",
        "print(generate_dict(number))"
      ],
      "metadata": {
        "colab": {
          "base_uri": "https://localhost:8080/"
        },
        "id": "tWtTE9uTC5Z3",
        "outputId": "f8529f9e-733f-4098-c854-a6af19dd3100"
      },
      "execution_count": 9,
      "outputs": [
        {
          "output_type": "stream",
          "name": "stdout",
          "text": [
            "{1: 1, 2: 4, 3: 9, 4: 16, 5: 25, 6: 36, 7: 49, 8: 64, 9: 81, 10: 100, 11: 121, 12: 144, 13: 169, 14: 196, 15: 225, 16: 256, 17: 289, 18: 324, 19: 361, 20: 400}\n"
          ]
        }
      ]
    },
    {
      "cell_type": "markdown",
      "source": [
        "Practice Problem 10 - Level 1 Write a Python function which accepts a string and returns a string made of the first 2 and the last 2 characters of the given string.\n",
        "\n",
        "If the string length is less than 2, return -1."
      ],
      "metadata": {
        "id": "BLMb3L-2DTWG"
      }
    },
    {
      "cell_type": "code",
      "source": [
        "def string_both_ends(input_string):\n",
        "\t#start writing your code here\n",
        "    if (len(input_string) < 2) :\n",
        "      return -1\n",
        "    else :\n",
        "      new_str= input_string[:2] + input_string[-2:]\n",
        "      return new_str\n",
        "input_string=\"w3w\"\n",
        "print(string_both_ends(input_string))"
      ],
      "metadata": {
        "colab": {
          "base_uri": "https://localhost:8080/"
        },
        "id": "u6HELcn0DTm7",
        "outputId": "b854ecc0-71bc-4c4c-811e-e839f99a888b"
      },
      "execution_count": 10,
      "outputs": [
        {
          "output_type": "stream",
          "name": "stdout",
          "text": [
            "w33w\n"
          ]
        }
      ]
    },
    {
      "cell_type": "markdown",
      "source": [
        "Practice Problem 11 - Level 1 Write a python function which accepts a sentence and returns a list in which first value is the count of upper case letters and second value is the count of lower case letters in the sentence. Ignore spaces, numbers and other special characters if any."
      ],
      "metadata": {
        "id": "yI41sk0kDT7F"
      }
    },
    {
      "cell_type": "code",
      "source": [
        "def find_upper_and_lower(sentence):\n",
        "    count_up=0\n",
        "    count_lo=0\n",
        "    #start writing your code here\n",
        "    for i in sentence:\n",
        "      if i.isupper():\n",
        "        count_up+=1\n",
        "      elif i.islower():\n",
        "        count_lo+=1\n",
        "    result_list=[count_up,count_lo]\n",
        "    return result_list\n",
        "\n",
        "sentence=\"Come Here\"\n",
        "print(find_upper_and_lower(sentence))"
      ],
      "metadata": {
        "colab": {
          "base_uri": "https://localhost:8080/"
        },
        "id": "H8YO2LbiDUMi",
        "outputId": "da6eaeaa-67ff-4f83-eb2b-74046ee10ff1"
      },
      "execution_count": 11,
      "outputs": [
        {
          "output_type": "stream",
          "name": "stdout",
          "text": [
            "[2, 6]\n"
          ]
        }
      ]
    },
    {
      "cell_type": "markdown",
      "source": [
        "Practice Problem 12 - Level 1 Write a python function to generate and return the list of all possible sentences created from the given lists of Subject, Verb and Object.\n",
        "\n",
        "Note: The sentence should contain only one subject, verb and object each."
      ],
      "metadata": {
        "id": "q687cHgUDnW_"
      }
    },
    {
      "cell_type": "code",
      "source": [
        "def generate_sentences(subjects,verbs,objects):\n",
        "    sentence_list=[]\n",
        "  #start writing your code here\n",
        "    for sub in subjects:\n",
        "       for ver in verbs:\n",
        "         for obj in objects:\n",
        "           sentence=sub + \" \" + ver + \" \"+ obj\n",
        "           sentence_list.append(sentence)\n",
        "\t\n",
        "    return sentence_list\n",
        "\n",
        "subjects=[\"I\",\"You\"]\n",
        "verbs=[\"love\", \"play\"]\n",
        "objects=[\"Hockey\",\"Football\"]\n",
        "print(generate_sentences(subjects,verbs,objects))"
      ],
      "metadata": {
        "colab": {
          "base_uri": "https://localhost:8080/"
        },
        "id": "pXRvhbfMDnvo",
        "outputId": "6e807b30-600d-48dd-a2a2-f24393206f58"
      },
      "execution_count": 12,
      "outputs": [
        {
          "output_type": "stream",
          "name": "stdout",
          "text": [
            "['I love Hockey', 'I love Football', 'I play Hockey', 'I play Football', 'You love Hockey', 'You love Football', 'You play Hockey', 'You play Football']\n"
          ]
        }
      ]
    },
    {
      "cell_type": "markdown",
      "source": [
        "Practice Problem 15 - Level 1 Write a python function which accepts a list of numbers and returns true if the list contains a 2 next to a 2. Otherwise it should return false."
      ],
      "metadata": {
        "id": "Ywh2ZUacDvMw"
      }
    },
    {
      "cell_type": "code",
      "source": [
        "def check_22(num_list):\n",
        "    #start writing your code here\n",
        "    for i in range(len(num_list)-1):\n",
        "       if (num_list[i]==2 and num_list[i+1]==2):\n",
        "         return True\n",
        "    return False   \n",
        "print(check_22([3,2,5,1,2,1,2,2]))"
      ],
      "metadata": {
        "colab": {
          "base_uri": "https://localhost:8080/"
        },
        "id": "rQMzL_QjDvfs",
        "outputId": "214013e8-d643-4296-b374-ace20325a73f"
      },
      "execution_count": 13,
      "outputs": [
        {
          "output_type": "stream",
          "name": "stdout",
          "text": [
            "True\n"
          ]
        }
      ]
    },
    {
      "cell_type": "markdown",
      "source": [
        "Practice Problem 23 - Level 1 Write a python function to find out whether a number is divisible by the sum of its digits. If so return True,else return False."
      ],
      "metadata": {
        "id": "WC1Q2DHiDvwW"
      }
    },
    {
      "cell_type": "code",
      "source": [
        "def divisible_by_sum(number):\n",
        "    #start writing your code here\n",
        "    result=0\n",
        "    num_str=str(number)             #we cannot iterate through numbers therefore we convert no. into str\n",
        "    for i in num_str:\n",
        "        result=result+int(i)\n",
        "    if (number%result==0):\n",
        "      return True\n",
        "    else:\n",
        "      return False\n",
        "number=42\n",
        "print(divisible_by_sum(number))"
      ],
      "metadata": {
        "colab": {
          "base_uri": "https://localhost:8080/"
        },
        "id": "TgkWpJMRDwCP",
        "outputId": "83598ad2-e314-40af-da52-bd9f94181af1"
      },
      "execution_count": 14,
      "outputs": [
        {
          "output_type": "stream",
          "name": "stdout",
          "text": [
            "True\n"
          ]
        }
      ]
    },
    {
      "cell_type": "markdown",
      "source": [
        "Practice Problem 24 - Level 1 Given two positive integers. Write a python function to return the greatest common divisor of the given numbers."
      ],
      "metadata": {
        "id": "JSVkoxRGEEuS"
      }
    },
    {
      "cell_type": "code",
      "source": [
        "def find_gcd(num1,num2):\n",
        "    if(num2==0): \n",
        "        return num1\n",
        "    else:\n",
        "        return find_gcd(num2,num1%num2)             \n",
        "\n",
        "num1=800\n",
        "num2=2800\n",
        "print(find_gcd(num1,num2))"
      ],
      "metadata": {
        "colab": {
          "base_uri": "https://localhost:8080/"
        },
        "id": "m-A5HA2OEFBh",
        "outputId": "ef30b9ff-7d7a-4fff-9dcc-1a70f5ef9943"
      },
      "execution_count": 15,
      "outputs": [
        {
          "output_type": "stream",
          "name": "stdout",
          "text": [
            "400\n"
          ]
        }
      ]
    },
    {
      "cell_type": "markdown",
      "source": [
        "Practice Problem 25 - Level 1 Write a python function that accepts a list of words and returns the list of integers representing the length of the corresponding words."
      ],
      "metadata": {
        "id": "Ai3jYsv1EOUL"
      }
    },
    {
      "cell_type": "code",
      "source": [
        "def list_of_count(word_list):\n",
        "    count_list=[]\n",
        "    \n",
        "    #start writing your code here\n",
        "    for i in word_list:\n",
        "      count=0\n",
        "      for j in i:\n",
        "        count+=1\n",
        "      count_list.append(count)\n",
        "\n",
        "    return count_list\n",
        "\n",
        "word_list=[\"COme\",\"here\"]\n",
        "print(list_of_count(word_list))"
      ],
      "metadata": {
        "colab": {
          "base_uri": "https://localhost:8080/"
        },
        "id": "6ZYqf5fqEOnm",
        "outputId": "f538d7bf-a562-49cd-9b91-4102ec91fd59"
      },
      "execution_count": 16,
      "outputs": [
        {
          "output_type": "stream",
          "name": "stdout",
          "text": [
            "[4, 4]\n"
          ]
        }
      ]
    },
    {
      "cell_type": "markdown",
      "source": [
        "Practice Problem 26 - Level 1 Given a string, write a python function to return True if the strings \"mat\" and \"jet\" appear the same number of times in the given string, else return False.\n",
        "\n",
        "Note: Perform case insensitive string comparison wherever necessary."
      ],
      "metadata": {
        "id": "1TWBYvUVEefp"
      }
    },
    {
      "cell_type": "code",
      "source": [
        "def check_occurence(string):\n",
        "    #start writing your code here\n",
        "    string=string.lower()\n",
        "    c=string.count(\"mat\")         # string method\n",
        "    cc=string.count(\"jet\")\n",
        "    if(c==cc):\n",
        "      return True\n",
        "    else:\n",
        "      return False\n",
        "         \n",
        "string=\"Jet on the Mat but mat is too long\"\n",
        "print(check_occurence(string))"
      ],
      "metadata": {
        "colab": {
          "base_uri": "https://localhost:8080/"
        },
        "id": "yHiDg4WTEewe",
        "outputId": "4d1360a7-ec2d-47df-c473-c0579c566849"
      },
      "execution_count": 17,
      "outputs": [
        {
          "output_type": "stream",
          "name": "stdout",
          "text": [
            "False\n"
          ]
        }
      ]
    },
    {
      "cell_type": "markdown",
      "source": [
        "Practice Problem 27 - Level 1 Given 2 positive integers, write a python function to return True if one of them is 10 or if their sum is 10, else return False."
      ],
      "metadata": {
        "id": "OlxWM_f6EpJM"
      }
    },
    {
      "cell_type": "code",
      "source": [
        "def check_for_ten(num1,num2):\n",
        "    #start writing your code here\n",
        "    if (num1==10 or num2==10 or num1+num2==10):\n",
        "      return True\n",
        "    else:\n",
        "      return False\n",
        "print(check_for_ten(10,9))\n"
      ],
      "metadata": {
        "colab": {
          "base_uri": "https://localhost:8080/"
        },
        "id": "ZPQsWMSyEpbR",
        "outputId": "b76ff7fa-643d-4da9-fa19-af70d1de922f"
      },
      "execution_count": 18,
      "outputs": [
        {
          "output_type": "stream",
          "name": "stdout",
          "text": [
            "True\n"
          ]
        }
      ]
    },
    {
      "cell_type": "markdown",
      "source": [
        "Practice Problem 13 - Level 2 Write a python function which accepts three numbers and returns True if\n",
        "\n",
        "a. one of the three numbers is \"close\" to any one of the other numbers (differing from a number by at most 1), and\n",
        "\n",
        "b.Number that is left out is \"far\", differing from both other values by 2 or more.\n",
        "\n",
        "Return false if the above mentioned conditions are not satisfied."
      ],
      "metadata": {
        "id": "reMokpWVFBVo"
      }
    },
    {
      "cell_type": "code",
      "source": [
        "def close_number(num1,num2,num3):\n",
        "    #start writing your code here\n",
        "    list=[]\n",
        "    cou=0\n",
        "    list.append(num1-num2)\n",
        "    list.append(num1-num3)\n",
        "    list.append(num2-num1)\n",
        "    list.append(num2-num3)\n",
        "    list.append(num3-num1)\n",
        "    list.append(num3-num2)\n",
        "    print(list)\n",
        "    for i in list:\n",
        "        if abs(i)==1 or i==0:\n",
        "            cou=cou+1\n",
        "    if(cou==2):\n",
        "        return True\n",
        "    return False\n",
        "print(close_number(9,6,6))"
      ],
      "metadata": {
        "colab": {
          "base_uri": "https://localhost:8080/"
        },
        "id": "B9eXLdeqFBmx",
        "outputId": "4ba5074d-21f3-43e6-852e-308cffa0d681"
      },
      "execution_count": 19,
      "outputs": [
        {
          "output_type": "stream",
          "name": "stdout",
          "text": [
            "[3, 3, -3, 0, -3, 0]\n",
            "True\n"
          ]
        }
      ]
    },
    {
      "cell_type": "markdown",
      "source": [
        "Practice Problem 16 - Level 2 Write a Python function to rotate the list of elements by N positions. The function should return the rotated list. Note : Assume that number of positions to be rotated is always a value >= 0 and <= length of the input list."
      ],
      "metadata": {
        "id": "_QboF7lWFB2z"
      }
    },
    {
      "cell_type": "code",
      "source": [
        "def rotate_list(input_list,n):\n",
        "    #start writing your code here\n",
        "    l = len(input_list)\n",
        "    m = l - n\n",
        "    output_list = input_list[m:] + input_list[0:m]\n",
        "\n",
        "    return output_list\n",
        "\n",
        "input_list= [1,2,3,4,5,6]\n",
        "output_list=rotate_list(input_list,4)\n",
        "print(output_list)"
      ],
      "metadata": {
        "colab": {
          "base_uri": "https://localhost:8080/"
        },
        "id": "v8rhpjIiFCMx",
        "outputId": "375b3ea5-8c3c-479c-b88a-2e09b072bcac"
      },
      "execution_count": 20,
      "outputs": [
        {
          "output_type": "stream",
          "name": "stdout",
          "text": [
            "[3, 4, 5, 6, 1, 2]\n"
          ]
        }
      ]
    },
    {
      "cell_type": "markdown",
      "source": [
        "Practice Problem 34 - Level 2 Problem Statement\n",
        "\n",
        "[Cornell University CS1110 Final Exam 2014 Spring]\n",
        "\n",
        "Write a recursive python function which returns True if the input is well-formatted with respect to the list labels. Else it should return False.\n",
        "\n",
        "We say that an input is well-formatted with respect to the labels if: (a) input item is a list (b) input item has length at least two (c) input’s first item is in the list labels (d) each of the remaining items in input is either a string or a well-formatted list"
      ],
      "metadata": {
        "id": "Y7aPKhv5FOtN"
      }
    },
    {
      "cell_type": "code",
      "source": [
        "def check_well_formatted(input_item,list_label):\n",
        "    #Start writing your code here\n",
        "    if isinstance(input_item, list):\n",
        "        if(len(input_item)<2):\n",
        "            return False\n",
        "        elif input_item[0] in list_label:\n",
        "            for i in range(1, len(input_item)):\n",
        "                if isinstance(input_item[i], list):\n",
        "                    if(len(input_item[i])<2):\n",
        "                        return False\n",
        "                    if input_item[i][0] not in list_label:\n",
        "                        return False\n",
        "                    if isinstance(input_item[i][1], str):\n",
        "                        pass\n",
        "                    else:\n",
        "                        return False\n",
        "                elif isinstance(input_item[i], str):\n",
        "                    pass\n",
        "                else:\n",
        "                    return False\n",
        "            else:\n",
        "                return True\n",
        "        else:\n",
        "            return False\n",
        "    else:\n",
        "      return False\n",
        "        \n",
        "\n",
        "\n",
        "input_list1=[1, [1, 2], '2']\n",
        "list_label1=[1, 2]\n",
        "result=check_well_formatted(input_list1,list_label1)\n",
        "if result is True:\n",
        "    print(\"Well formatted\")\n",
        "else:\n",
        "    print(\"Not Well formatted\")"
      ],
      "metadata": {
        "colab": {
          "base_uri": "https://localhost:8080/"
        },
        "id": "CDOhmlKUFO-x",
        "outputId": "b17a363e-c842-47ee-aa1a-4ff132ae578c"
      },
      "execution_count": 21,
      "outputs": [
        {
          "output_type": "stream",
          "name": "stdout",
          "text": [
            "Not Well formatted\n"
          ]
        }
      ]
    }
  ]
}